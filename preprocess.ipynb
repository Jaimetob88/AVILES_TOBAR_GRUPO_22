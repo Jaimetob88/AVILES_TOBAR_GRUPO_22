{
 "cells": [
  {
   "cell_type": "code",
   "execution_count": 182,
   "id": "28bf3d81",
   "metadata": {},
   "outputs": [],
   "source": [
    "import pandas as pd\n",
    "import numpy as np\n",
    "from sklearn.preprocessing import StandardScaler\n",
    "from sklearn.impute import SimpleImputer\n",
    "from sklearn.preprocessing import OneHotEncoder\n",
    "from sklearn.compose import ColumnTransformer\n",
    "from sklearn.pipeline import Pipeline"
   ]
  },
  {
   "cell_type": "markdown",
   "id": "dd6a6b2d",
   "metadata": {},
   "source": [
    "# Analisis inicial\n",
    "Analizamos los tipos de datos que muestra el dataset."
   ]
  },
  {
   "cell_type": "code",
   "execution_count": 183,
   "id": "00cf3e7c",
   "metadata": {},
   "outputs": [],
   "source": [
    "df_train = pd.read_csv(\"salario.csv\")"
   ]
  },
  {
   "cell_type": "code",
   "execution_count": 184,
   "id": "eefc6f6b",
   "metadata": {},
   "outputs": [
    {
     "data": {
      "text/html": [
       "<div>\n",
       "<style scoped>\n",
       "    .dataframe tbody tr th:only-of-type {\n",
       "        vertical-align: middle;\n",
       "    }\n",
       "\n",
       "    .dataframe tbody tr th {\n",
       "        vertical-align: top;\n",
       "    }\n",
       "\n",
       "    .dataframe thead th {\n",
       "        text-align: right;\n",
       "    }\n",
       "</style>\n",
       "<table border=\"1\" class=\"dataframe\">\n",
       "  <thead>\n",
       "    <tr style=\"text-align: right;\">\n",
       "      <th></th>\n",
       "      <th>edad</th>\n",
       "      <th>trabajo</th>\n",
       "      <th>estudios</th>\n",
       "      <th>estado-civil</th>\n",
       "      <th>trabajo.1</th>\n",
       "      <th>posicion-familiar</th>\n",
       "      <th>etnia</th>\n",
       "      <th>sexo</th>\n",
       "      <th>ganancias_inversiones</th>\n",
       "      <th>perdidas_inversiones</th>\n",
       "      <th>horas-trabajo_semana</th>\n",
       "      <th>pais-origen</th>\n",
       "      <th>salario</th>\n",
       "    </tr>\n",
       "  </thead>\n",
       "  <tbody>\n",
       "    <tr>\n",
       "      <th>0</th>\n",
       "      <td>39</td>\n",
       "      <td>State-gov</td>\n",
       "      <td>Bachelors</td>\n",
       "      <td>Never-married</td>\n",
       "      <td>Adm-clerical</td>\n",
       "      <td>No-en-familia</td>\n",
       "      <td>Blanco</td>\n",
       "      <td>Hombre</td>\n",
       "      <td>2174</td>\n",
       "      <td>0</td>\n",
       "      <td>40</td>\n",
       "      <td>United-States</td>\n",
       "      <td>&lt;=50K</td>\n",
       "    </tr>\n",
       "    <tr>\n",
       "      <th>1</th>\n",
       "      <td>50</td>\n",
       "      <td>Self-emp-not-inc</td>\n",
       "      <td>Bachelors</td>\n",
       "      <td>Married-civ-spouse</td>\n",
       "      <td>Exec-managerial</td>\n",
       "      <td>Marido</td>\n",
       "      <td>Blanco</td>\n",
       "      <td>Hombre</td>\n",
       "      <td>0</td>\n",
       "      <td>0</td>\n",
       "      <td>13</td>\n",
       "      <td>United-States</td>\n",
       "      <td>&lt;=50K</td>\n",
       "    </tr>\n",
       "    <tr>\n",
       "      <th>2</th>\n",
       "      <td>38</td>\n",
       "      <td>Private</td>\n",
       "      <td>HS-grad</td>\n",
       "      <td>Divorced</td>\n",
       "      <td>Handlers-cleaners</td>\n",
       "      <td>No-en-familia</td>\n",
       "      <td>Blanco</td>\n",
       "      <td>Hombre</td>\n",
       "      <td>0</td>\n",
       "      <td>0</td>\n",
       "      <td>40</td>\n",
       "      <td>United-States</td>\n",
       "      <td>&lt;=50K</td>\n",
       "    </tr>\n",
       "    <tr>\n",
       "      <th>3</th>\n",
       "      <td>53</td>\n",
       "      <td>Private</td>\n",
       "      <td>11th</td>\n",
       "      <td>Married-civ-spouse</td>\n",
       "      <td>Handlers-cleaners</td>\n",
       "      <td>Marido</td>\n",
       "      <td>Negro</td>\n",
       "      <td>Hombre</td>\n",
       "      <td>0</td>\n",
       "      <td>0</td>\n",
       "      <td>40</td>\n",
       "      <td>United-States</td>\n",
       "      <td>&lt;=50K</td>\n",
       "    </tr>\n",
       "    <tr>\n",
       "      <th>4</th>\n",
       "      <td>28</td>\n",
       "      <td>Private</td>\n",
       "      <td>Bachelors</td>\n",
       "      <td>Married-civ-spouse</td>\n",
       "      <td>Prof-specialty</td>\n",
       "      <td>Mujer</td>\n",
       "      <td>Negro</td>\n",
       "      <td>Mujer</td>\n",
       "      <td>0</td>\n",
       "      <td>0</td>\n",
       "      <td>40</td>\n",
       "      <td>Cuba</td>\n",
       "      <td>&lt;=50K</td>\n",
       "    </tr>\n",
       "  </tbody>\n",
       "</table>\n",
       "</div>"
      ],
      "text/plain": [
       "   edad            trabajo    estudios         estado-civil  \\\n",
       "0    39          State-gov   Bachelors        Never-married   \n",
       "1    50   Self-emp-not-inc   Bachelors   Married-civ-spouse   \n",
       "2    38            Private     HS-grad             Divorced   \n",
       "3    53            Private        11th   Married-civ-spouse   \n",
       "4    28            Private   Bachelors   Married-civ-spouse   \n",
       "\n",
       "            trabajo.1 posicion-familiar    etnia     sexo  \\\n",
       "0        Adm-clerical     No-en-familia   Blanco   Hombre   \n",
       "1     Exec-managerial            Marido   Blanco   Hombre   \n",
       "2   Handlers-cleaners     No-en-familia   Blanco   Hombre   \n",
       "3   Handlers-cleaners            Marido    Negro   Hombre   \n",
       "4      Prof-specialty             Mujer    Negro    Mujer   \n",
       "\n",
       "   ganancias_inversiones  perdidas_inversiones  horas-trabajo_semana  \\\n",
       "0                   2174                     0                    40   \n",
       "1                      0                     0                    13   \n",
       "2                      0                     0                    40   \n",
       "3                      0                     0                    40   \n",
       "4                      0                     0                    40   \n",
       "\n",
       "      pais-origen salario  \n",
       "0   United-States   <=50K  \n",
       "1   United-States   <=50K  \n",
       "2   United-States   <=50K  \n",
       "3   United-States   <=50K  \n",
       "4            Cuba   <=50K  "
      ]
     },
     "execution_count": 184,
     "metadata": {},
     "output_type": "execute_result"
    }
   ],
   "source": [
    "df_train.head()"
   ]
  },
  {
   "cell_type": "code",
   "execution_count": 185,
   "id": "d5c2ce85",
   "metadata": {},
   "outputs": [
    {
     "name": "stdout",
     "output_type": "stream",
     "text": [
      "<class 'pandas.core.frame.DataFrame'>\n",
      "RangeIndex: 27998 entries, 0 to 27997\n",
      "Data columns (total 13 columns):\n",
      " #   Column                 Non-Null Count  Dtype \n",
      "---  ------                 --------------  ----- \n",
      " 0   edad                   27998 non-null  int64 \n",
      " 1   trabajo                27998 non-null  object\n",
      " 2   estudios               27998 non-null  object\n",
      " 3   estado-civil           27998 non-null  object\n",
      " 4   trabajo.1              27998 non-null  object\n",
      " 5   posicion-familiar      27998 non-null  object\n",
      " 6   etnia                  27998 non-null  object\n",
      " 7   sexo                   27998 non-null  object\n",
      " 8   ganancias_inversiones  27998 non-null  int64 \n",
      " 9   perdidas_inversiones   27998 non-null  int64 \n",
      " 10  horas-trabajo_semana   27998 non-null  int64 \n",
      " 11  pais-origen            27998 non-null  object\n",
      " 12  salario                27998 non-null  object\n",
      "dtypes: int64(4), object(9)\n",
      "memory usage: 2.8+ MB\n",
      "Testing Features shape:  (27998, 13)\n"
     ]
    }
   ],
   "source": [
    "df_train.info()\n",
    "print('Testing Features shape: ', df_train.shape)"
   ]
  },
  {
   "cell_type": "code",
   "execution_count": 186,
   "id": "c9d673bd",
   "metadata": {},
   "outputs": [
    {
     "name": "stdout",
     "output_type": "stream",
     "text": [
      "edad                      72\n",
      "trabajo                    9\n",
      "estudios                  16\n",
      "estado-civil               7\n",
      "trabajo.1                 15\n",
      "posicion-familiar          6\n",
      "etnia                      5\n",
      "sexo                       2\n",
      "ganancias_inversiones    117\n",
      "perdidas_inversiones      90\n",
      "horas-trabajo_semana      94\n",
      "pais-origen               42\n",
      "salario                    2\n",
      "dtype: int64\n"
     ]
    }
   ],
   "source": [
    "print(df_train.nunique())\n"
   ]
  },
  {
   "cell_type": "markdown",
   "id": "f69e483d",
   "metadata": {},
   "source": [
    "Haciendo un análisis principal del dataset, podemos obserbar que de las columnas 1 a la 7, junto a la 11 y 12 se tratan de variables categóricas.\n",
    "En cuanto a las variables númericas luego deberemos tratar algun tipo de normalización o estandarización."
   ]
  },
  {
   "cell_type": "markdown",
   "id": "bd272833",
   "metadata": {},
   "source": [
    "# Verificación de filas duplicadas\n",
    "Vamos a comprobar si existen filas duplicadas en nuestro dataset, lo cual podría afectar al rendimiento y sesgar nuestro modelo."
   ]
  },
  {
   "cell_type": "code",
   "execution_count": 187,
   "id": "c39a780f",
   "metadata": {},
   "outputs": [
    {
     "name": "stdout",
     "output_type": "stream",
     "text": [
      "Número total de filas duplicadas: 2722\n",
      "Porcentaje de filas duplicadas: 9.72%\n",
      "\n",
      "Primeras filas duplicadas encontradas:\n"
     ]
    },
    {
     "data": {
      "text/html": [
       "<div>\n",
       "<style scoped>\n",
       "    .dataframe tbody tr th:only-of-type {\n",
       "        vertical-align: middle;\n",
       "    }\n",
       "\n",
       "    .dataframe tbody tr th {\n",
       "        vertical-align: top;\n",
       "    }\n",
       "\n",
       "    .dataframe thead th {\n",
       "        text-align: right;\n",
       "    }\n",
       "</style>\n",
       "<table border=\"1\" class=\"dataframe\">\n",
       "  <thead>\n",
       "    <tr style=\"text-align: right;\">\n",
       "      <th></th>\n",
       "      <th>edad</th>\n",
       "      <th>trabajo</th>\n",
       "      <th>estudios</th>\n",
       "      <th>estado-civil</th>\n",
       "      <th>trabajo.1</th>\n",
       "      <th>posicion-familiar</th>\n",
       "      <th>etnia</th>\n",
       "      <th>sexo</th>\n",
       "      <th>ganancias_inversiones</th>\n",
       "      <th>perdidas_inversiones</th>\n",
       "      <th>horas-trabajo_semana</th>\n",
       "      <th>pais-origen</th>\n",
       "      <th>salario</th>\n",
       "    </tr>\n",
       "  </thead>\n",
       "  <tbody>\n",
       "    <tr>\n",
       "      <th>352</th>\n",
       "      <td>33</td>\n",
       "      <td>Private</td>\n",
       "      <td>Bachelors</td>\n",
       "      <td>Married-civ-spouse</td>\n",
       "      <td>Exec-managerial</td>\n",
       "      <td>Marido</td>\n",
       "      <td>Blanco</td>\n",
       "      <td>Hombre</td>\n",
       "      <td>0</td>\n",
       "      <td>0</td>\n",
       "      <td>40</td>\n",
       "      <td>United-States</td>\n",
       "      <td>&gt;50K</td>\n",
       "    </tr>\n",
       "    <tr>\n",
       "      <th>391</th>\n",
       "      <td>27</td>\n",
       "      <td>Private</td>\n",
       "      <td>Bachelors</td>\n",
       "      <td>Never-married</td>\n",
       "      <td>Craft-repair</td>\n",
       "      <td>No-en-familia</td>\n",
       "      <td>Blanco</td>\n",
       "      <td>Hombre</td>\n",
       "      <td>0</td>\n",
       "      <td>0</td>\n",
       "      <td>50</td>\n",
       "      <td>United-States</td>\n",
       "      <td>&lt;=50K</td>\n",
       "    </tr>\n",
       "    <tr>\n",
       "      <th>563</th>\n",
       "      <td>24</td>\n",
       "      <td>Private</td>\n",
       "      <td>HS-grad</td>\n",
       "      <td>Never-married</td>\n",
       "      <td>Handlers-cleaners</td>\n",
       "      <td>Soltero-a</td>\n",
       "      <td>Negro</td>\n",
       "      <td>Mujer</td>\n",
       "      <td>0</td>\n",
       "      <td>0</td>\n",
       "      <td>40</td>\n",
       "      <td>United-States</td>\n",
       "      <td>&lt;=50K</td>\n",
       "    </tr>\n",
       "    <tr>\n",
       "      <th>570</th>\n",
       "      <td>24</td>\n",
       "      <td>Private</td>\n",
       "      <td>HS-grad</td>\n",
       "      <td>Never-married</td>\n",
       "      <td>Craft-repair</td>\n",
       "      <td>Hijo-unico</td>\n",
       "      <td>Blanco</td>\n",
       "      <td>Hombre</td>\n",
       "      <td>0</td>\n",
       "      <td>0</td>\n",
       "      <td>40</td>\n",
       "      <td>United-States</td>\n",
       "      <td>&lt;=50K</td>\n",
       "    </tr>\n",
       "    <tr>\n",
       "      <th>673</th>\n",
       "      <td>33</td>\n",
       "      <td>Private</td>\n",
       "      <td>Bachelors</td>\n",
       "      <td>Married-civ-spouse</td>\n",
       "      <td>Exec-managerial</td>\n",
       "      <td>Marido</td>\n",
       "      <td>Blanco</td>\n",
       "      <td>Hombre</td>\n",
       "      <td>0</td>\n",
       "      <td>0</td>\n",
       "      <td>40</td>\n",
       "      <td>United-States</td>\n",
       "      <td>&gt;50K</td>\n",
       "    </tr>\n",
       "  </tbody>\n",
       "</table>\n",
       "</div>"
      ],
      "text/plain": [
       "     edad   trabajo    estudios         estado-civil           trabajo.1  \\\n",
       "352    33   Private   Bachelors   Married-civ-spouse     Exec-managerial   \n",
       "391    27   Private   Bachelors        Never-married        Craft-repair   \n",
       "563    24   Private     HS-grad        Never-married   Handlers-cleaners   \n",
       "570    24   Private     HS-grad        Never-married        Craft-repair   \n",
       "673    33   Private   Bachelors   Married-civ-spouse     Exec-managerial   \n",
       "\n",
       "    posicion-familiar    etnia     sexo  ganancias_inversiones  \\\n",
       "352            Marido   Blanco   Hombre                      0   \n",
       "391     No-en-familia   Blanco   Hombre                      0   \n",
       "563         Soltero-a    Negro    Mujer                      0   \n",
       "570        Hijo-unico   Blanco   Hombre                      0   \n",
       "673            Marido   Blanco   Hombre                      0   \n",
       "\n",
       "     perdidas_inversiones  horas-trabajo_semana     pais-origen salario  \n",
       "352                     0                    40   United-States    >50K  \n",
       "391                     0                    50   United-States   <=50K  \n",
       "563                     0                    40   United-States   <=50K  \n",
       "570                     0                    40   United-States   <=50K  \n",
       "673                     0                    40   United-States    >50K  "
      ]
     },
     "execution_count": 187,
     "metadata": {},
     "output_type": "execute_result"
    }
   ],
   "source": [
    "\n",
    "duplicadas = df_train.duplicated().sum()\n",
    "print(f\"Número total de filas duplicadas: {duplicadas}\")\n",
    "\n",
    "\n",
    "porcentaje_duplicadas = (duplicadas / len(df_train)) * 100\n",
    "print(f\"Porcentaje de filas duplicadas: {porcentaje_duplicadas:.2f}%\")\n",
    "\n",
    "\n",
    "print(\"\\nPrimeras filas duplicadas encontradas:\")\n",
    "df_train[df_train.duplicated()].head()"
   ]
  },
  {
   "cell_type": "markdown",
   "id": "2b237a94",
   "metadata": {},
   "source": [
    "Nos encontramos con un 9.69% de filas duplicadas no es extremo, pero sí lo bastante alto como para que sea necesario revisar que hacer con ello:\n",
    "\n",
    "- ¿Qué representan las filas?\n",
    "El kaggle de la practica nos muestra que una fila esta compuesta por \"12 columnas con información relevante para poder predecir el salario de una persona.\"\n",
    "\n",
    "- Si cada fila representa una observación única los duplicados probablemente son errores y deberías eliminarlos.\n",
    "\n",
    "- Si las filas representan eventos que pueden repetirse legítimamente, los duplicados podrían ser válidos, y eliminarlos podría hacerte perder información."
   ]
  },
  {
   "cell_type": "markdown",
   "id": "d5c6c2c4",
   "metadata": {},
   "source": [
    "Analizando el significado del dataset es posible que distintas personas reales compartan exactamente las mismas características en las columnas del dataset (trabajo, estado civil, posción familiar etc.), especialmente si las variables son categóricas. Pero se son todas las columnas se repitan, tanto edad como inversiones o horas de trabajo ya es mas complicado que surga, así que vamos a verlo más en profundidad:"
   ]
  },
  {
   "cell_type": "code",
   "execution_count": 188,
   "id": "64d76517",
   "metadata": {},
   "outputs": [
    {
     "name": "stdout",
     "output_type": "stream",
     "text": [
      "Distribución de filas duplicadas:\n",
      "\n",
      "Primeras 10 filas más repetidas:\n"
     ]
    },
    {
     "data": {
      "text/plain": [
       "edad  trabajo  estudios      estado-civil        trabajo.1          posicion-familiar  etnia   sexo    ganancias_inversiones  perdidas_inversiones  horas-trabajo_semana  pais-origen    salario\n",
       "39    Private  HS-grad       Married-civ-spouse  Craft-repair       Marido             Blanco  Hombre  0                      0                     40                    United-States  <=50K      13\n",
       "29    Private  HS-grad       Married-civ-spouse  Craft-repair       Marido             Blanco  Hombre  0                      0                     40                    United-States  <=50K      12\n",
       "33    Private  HS-grad       Married-civ-spouse  Craft-repair       Marido             Blanco  Hombre  0                      0                     40                    United-States  <=50K      12\n",
       "35    Private  HS-grad       Married-civ-spouse  Craft-repair       Marido             Blanco  Hombre  0                      0                     40                    United-States  <=50K      12\n",
       "19    ?        Some-college  Never-married       ?                  Hijo-unico         Blanco  Hombre  0                      0                     40                    United-States  <=50K      12\n",
       "20    ?        Some-college  Never-married       ?                  Hijo-unico         Blanco  Mujer   0                      0                     40                    United-States  <=50K      11\n",
       "      Private  HS-grad       Never-married       Handlers-cleaners  Hijo-unico         Blanco  Hombre  0                      0                     40                    United-States  <=50K      11\n",
       "37    Private  HS-grad       Married-civ-spouse  Craft-repair       Marido             Blanco  Hombre  0                      0                     40                    United-States  <=50K      10\n",
       "51    Private  HS-grad       Married-civ-spouse  Craft-repair       Marido             Blanco  Hombre  0                      0                     40                    United-States  <=50K      10\n",
       "50    Private  HS-grad       Married-civ-spouse  Craft-repair       Marido             Blanco  Hombre  0                      0                     40                    United-States  <=50K      10\n",
       "Name: count, dtype: int64"
      ]
     },
     "execution_count": 188,
     "metadata": {},
     "output_type": "execute_result"
    }
   ],
   "source": [
    "# Contamos cuántas veces se repite cada fila completa\n",
    "duplicados_por_fila = df_train.value_counts()\n",
    "\n",
    "print(\"Distribución de filas duplicadas:\")\n",
    "print(\"\\nPrimeras 10 filas más repetidas:\")\n",
    "duplicados_por_fila.head(10)"
   ]
  },
  {
   "cell_type": "markdown",
   "id": "5b4cd3d1",
   "metadata": {},
   "source": [
    "Como podemos ver la máxima repetición de una fila se da 13 veces, siendo una fila donde la edad, las inversiones son 0 en ambos casos y las horas de trabajo a la semana son las mismas.\n",
    "\n",
    "Y esto se da en las 10 primeras filas más repetidas, por lo que sabiendo esto, una opción es optar a que no es necesario eliminar las filas. Ya que es razonable pensar dos o más personas que estudiaron lo mismo, trabajaben en lo mismo... es muy probable que ganen parecido siendo los dos ambos <=50K o >50k. Pero a su vez que compartan las variables númericas, asi como sexo, etnia, posición familiar, etc. es muy complicado. Tendiendo más a eliminación de dichas filas.\n",
    "\n",
    "Como solución al problema vamos a ver eliminar los duplicados cambia la distribución del target:"
   ]
  },
  {
   "cell_type": "code",
   "execution_count": 189,
   "id": "7b8856ba",
   "metadata": {},
   "outputs": [
    {
     "name": "stdout",
     "output_type": "stream",
     "text": [
      "salario\n",
      "<=50K    0.760411\n",
      ">50K     0.239589\n",
      "Name: proportion, dtype: float64\n",
      "salario\n",
      "<=50K    0.753838\n",
      ">50K     0.246162\n",
      "Name: proportion, dtype: float64\n"
     ]
    }
   ],
   "source": [
    "print(df_train['salario'].value_counts(normalize=True))\n",
    "\n",
    "df_sin_dup = df_train.drop_duplicates()\n",
    "\n",
    "print(df_sin_dup['salario'].value_counts(normalize=True))"
   ]
  },
  {
   "cell_type": "markdown",
   "id": "3cd8b9a7",
   "metadata": {},
   "source": [
    "Las proporciones del target (“salario”) apenas cambian después de eliminar los duplicados, eso nos indica que los duplicados no aportan nueva información.\n",
    "\n",
    "Dado que:\n",
    "- Los duplicados son idénticos en todas las columnas.\n",
    "- No representan un gran porcentaje del dataset.\n",
    "- La distribución del target no cambia al eliminarlos.\n",
    "- Y no encontramos una buena razón para mantener los resultados.\n",
    "\n",
    "Decidimos que lo mejor es eliminarlo."
   ]
  },
  {
   "cell_type": "code",
   "execution_count": 190,
   "id": "5601142a",
   "metadata": {},
   "outputs": [
    {
     "name": "stdout",
     "output_type": "stream",
     "text": [
      "Filas en el dataset déspues de eliminar: 25276\n"
     ]
    }
   ],
   "source": [
    "\n",
    "df_train = df_train.drop_duplicates()\n",
    "print(f\"Filas en el dataset déspues de eliminar: {len(df_train)}\")"
   ]
  },
  {
   "cell_type": "markdown",
   "id": "3d343020",
   "metadata": {},
   "source": [
    "# Limpieza de datos - Missing values\n",
    "Buscamos y analizamos el porcentaje de NANs( valores vacios) que se encuentran en dataset, luego trataremos estos valores aplicando una estrategia:\n"
   ]
  },
  {
   "cell_type": "markdown",
   "id": "c8802899",
   "metadata": {},
   "source": [
    "Lo primero que nos fijamos es que la forma del dataset para representar los valores vacios, es a través del cáracter \"?\". Por lo que procederemos a verdaderamente vaciar dichos valores."
   ]
  },
  {
   "cell_type": "code",
   "execution_count": 191,
   "id": "bc47ddab",
   "metadata": {},
   "outputs": [],
   "source": [
    "df_train.replace(r'^\\s*\\?\\s*$', np.nan, regex=True, inplace=True)"
   ]
  },
  {
   "cell_type": "code",
   "execution_count": 192,
   "id": "84645bc1",
   "metadata": {},
   "outputs": [
    {
     "name": "stdout",
     "output_type": "stream",
     "text": [
      "edad                        0\n",
      "trabajo                  1408\n",
      "estudios                    0\n",
      "estado-civil                0\n",
      "trabajo.1                1413\n",
      "posicion-familiar           0\n",
      "etnia                       0\n",
      "sexo                        0\n",
      "ganancias_inversiones       0\n",
      "perdidas_inversiones        0\n",
      "horas-trabajo_semana        0\n",
      "pais-origen               493\n",
      "salario                     0\n",
      "dtype: int64\n"
     ]
    }
   ],
   "source": [
    "print(df_train.isna().sum())"
   ]
  },
  {
   "cell_type": "code",
   "execution_count": 193,
   "id": "f738566a",
   "metadata": {},
   "outputs": [
    {
     "name": "stdout",
     "output_type": "stream",
     "text": [
      "trabajo        5.570502\n",
      "trabajo.1      5.590283\n",
      "pais-origen    1.950467\n",
      "dtype: float64\n"
     ]
    }
   ],
   "source": [
    "nan_por_columna = df_train.isnull().mean() * 100\n",
    "pd.set_option('display.max_rows', None)\n",
    "print(nan_por_columna[nan_por_columna > 0])"
   ]
  },
  {
   "cell_type": "markdown",
   "id": "80f14a66",
   "metadata": {},
   "source": [
    "Solo 3 columnas (trabajo, trabajo.1 y pais-origen) poseen valores nulos."
   ]
  },
  {
   "cell_type": "code",
   "execution_count": 194,
   "id": "ef56f30d",
   "metadata": {},
   "outputs": [
    {
     "name": "stdout",
     "output_type": "stream",
     "text": [
      "14     1\n",
      "27     2\n",
      "38     1\n",
      "51     1\n",
      "61     3\n",
      "69     2\n",
      "77     2\n",
      "93     1\n",
      "106    2\n",
      "128    2\n",
      "149    2\n",
      "154    2\n",
      "160    2\n",
      "187    2\n",
      "201    2\n",
      "221    2\n",
      "226    2\n",
      "243    2\n",
      "245    1\n",
      "249    1\n",
      "dtype: int64\n"
     ]
    }
   ],
   "source": [
    "nan_por_fila = df_train.isna().sum(axis=1)\n",
    "print(nan_por_fila[nan_por_fila > 0].head(20))"
   ]
  },
  {
   "cell_type": "markdown",
   "id": "9e8003c2",
   "metadata": {},
   "source": [
    "Hay filas que solo"
   ]
  },
  {
   "cell_type": "code",
   "execution_count": 195,
   "id": "ef56f30d",
   "metadata": {},
   "outputs": [
    {
     "name": "stdout",
     "output_type": "stream",
     "text": [
      "Porcentaje de filas con algún un NaN: 7.45%\n"
     ]
    }
   ],
   "source": [
    "porcentaje_filas_nan = (df_train.isna().any(axis=1).mean()) * 100\n",
    "print(f\"Porcentaje de filas con algún un NaN: {porcentaje_filas_nan:.2f}%\")"
   ]
  },
  {
   "cell_type": "markdown",
   "id": "8f229a46",
   "metadata": {},
   "source": [
    "Estrategia para tratar los valores faltantes\n",
    "\n",
    "Para tratar los valores faltantes, seguiremos la siguiente estrategia:\n",
    "\n",
    "1. Para variables numéricas:\n",
    "   - No es necesario tratar nada ya que los NANs solo aparecen en tres columnas categóricas\n",
    "   \n",
    "2. Para variables categóricas:\n",
    "   - Debido a la proporción de filas con al menos un NANs, creemos que ese 7,3% es lo sufientemente notorio como para evitar eliminar todas esas filas, y buscar el imputar los valores, pero a su vez no es una gran parte del dataset por lo que podríamos prescindir de algunas filas.\n",
    "   - Con esto en mente, hemos optado por usar dos estrategias al mismo tiempo:\n",
    "        - Para las filas con 2 o más nulos. --> Se eliminan.\n",
    "        - Para las filas con solo un nulo, rellenaremos ese valor a través de la moda (valor más frecuente) de su columna categórica.\n",
    "   \n",
    "\n",
    "Esta estrategia nos ayudará a mantener la distribución de los datos sin introducir sesgos significativos, a su vez que se eliminan aquellas filas con mucha información perdida."
   ]
  },
  {
   "cell_type": "code",
   "execution_count": 196,
   "id": "792ce7b0",
   "metadata": {},
   "outputs": [],
   "source": [
    "# Primero, mantenemos solo las filas que tienen al menos (n_columnas - 1) valores no nulos\n",
    "# Es decir: elimina las que tienen 2 o más NaN\n",
    "df_temp = df_train.dropna(thresh=df_train.shape[1] - 1)"
   ]
  },
  {
   "cell_type": "code",
   "execution_count": 197,
   "id": "9f91b053",
   "metadata": {},
   "outputs": [
    {
     "name": "stdout",
     "output_type": "stream",
     "text": [
      "Características numéricas: ['edad', 'ganancias_inversiones', 'perdidas_inversiones', 'horas-trabajo_semana']\n",
      "\n",
      "Características categóricas: ['trabajo', 'estudios', 'estado-civil', 'trabajo.1', 'posicion-familiar', 'etnia', 'sexo', 'pais-origen', 'salario']\n"
     ]
    }
   ],
   "source": [
    "# Segundo, separamos las columnas numéricas y categóricas\n",
    "numeric_features = df_temp.select_dtypes(include=['int64']).columns.tolist()\n",
    "categorical_features = df_temp.select_dtypes(include=['object']).columns.tolist()\n",
    "\n",
    "print(\"Características numéricas:\", numeric_features)\n",
    "print(\"\\nCaracterísticas categóricas:\", categorical_features)"
   ]
  },
  {
   "cell_type": "markdown",
   "id": "0db7f204",
   "metadata": {},
   "source": [
    "A la hora de rellenar los NANs en las columnas, a su vez podemos aprovechar para realizar la codificación one-hot que hace columna binaria por categoría, ya que la inmensa mayoria de los modelos \"solo entienden números\" y no acepta operar directamente con texto.\n",
    "\n",
    "¿Porque codificación One-hot?\n",
    "\n",
    "Debido a que si las transformasemos a números los dintintos valores de una columna categórica como por ejemplo \"trabajo\":\n",
    "Private → 1\n",
    "State-gov → 2\n",
    "Self-emp → 3\n",
    "Los modelo interpretaría que “State-gov” está entre “Private” y “Self-emp”, lo cual no tiene sentido no hay orden natural entre categorías, solo serviría para columnas donde esta relacion si exista, y posibles valores son por ejemplo “bajo”, “medio”, “alto”.\n",
    "\n",
    "El One-hot al crear columna binaria por categoría, rompe esta posible relación que no aplica."
   ]
  },
  {
   "cell_type": "code",
   "execution_count": 198,
   "id": "1ef7fec9",
   "metadata": {},
   "outputs": [
    {
     "name": "stdout",
     "output_type": "stream",
     "text": [
      "(23868, 105)\n"
     ]
    }
   ],
   "source": [
    "# pipeline de preprocesamiento solo para variables categóricas\n",
    "categorical_transformer = Pipeline(steps=[\n",
    "    ('imputer', SimpleImputer(strategy='most_frequent')),\n",
    "    (\"encoder\", OneHotEncoder(handle_unknown=\"ignore\", sparse_output=False))  # Usamos OneHotEncoder para transformar los datos categóricos\n",
    "])\n",
    "\n",
    "# Aplicamos la transformación solo a las columnas categóricas\n",
    "preprocessor = ColumnTransformer(\n",
    "    transformers=[\n",
    "        ('cat', categorical_transformer, categorical_features)\n",
    "    ],\n",
    "    remainder='passthrough'  # Esto mantiene las columnas numéricas sin modificar\n",
    ")\n",
    "\n",
    "# Ajustamos y transformamos los datos\n",
    "transformed = preprocessor.fit_transform(df_temp)\n",
    "print(transformed.shape)"
   ]
  },
  {
   "cell_type": "code",
   "execution_count": 199,
   "id": "d3aa5f37",
   "metadata": {},
   "outputs": [
    {
     "name": "stdout",
     "output_type": "stream",
     "text": [
      "['trabajo_ Federal-gov', 'trabajo_ Local-gov', 'trabajo_ Never-worked', 'trabajo_ Private', 'trabajo_ Self-emp-inc', 'trabajo_ Self-emp-not-inc', 'trabajo_ State-gov', 'trabajo_ Without-pay', 'estudios_ 10th', 'estudios_ 11th', 'estudios_ 12th', 'estudios_ 1st-4th', 'estudios_ 5th-6th', 'estudios_ 7th-8th', 'estudios_ 9th', 'estudios_ Assoc-acdm', 'estudios_ Assoc-voc', 'estudios_ Bachelors', 'estudios_ Doctorate', 'estudios_ HS-grad', 'estudios_ Masters', 'estudios_ Preschool', 'estudios_ Prof-school', 'estudios_ Some-college', 'estado-civil_ Divorced', 'estado-civil_ Married-AF-spouse', 'estado-civil_ Married-civ-spouse', 'estado-civil_ Married-spouse-absent', 'estado-civil_ Never-married', 'estado-civil_ Separated', 'estado-civil_ Widowed', 'trabajo.1_ Adm-clerical', 'trabajo.1_ Armed-Forces', 'trabajo.1_ Craft-repair', 'trabajo.1_ Exec-managerial', 'trabajo.1_ Farming-fishing', 'trabajo.1_ Handlers-cleaners', 'trabajo.1_ Machine-op-inspct', 'trabajo.1_ Other-service', 'trabajo.1_ Priv-house-serv', 'trabajo.1_ Prof-specialty', 'trabajo.1_ Protective-serv', 'trabajo.1_ Sales', 'trabajo.1_ Tech-support', 'trabajo.1_ Transport-moving', 'posicion-familiar_ Hijo-unico', 'posicion-familiar_ Marido', 'posicion-familiar_ Mujer', 'posicion-familiar_ No-en-familia', 'posicion-familiar_ Otro-familiar', 'posicion-familiar_ Soltero-a', 'etnia_ Amerindio-esquimal', 'etnia_ Asiatico-Pacifico-Isleno', 'etnia_ Blanco', 'etnia_ Negro', 'etnia_ Otro', 'sexo_ Hombre', 'sexo_ Mujer', 'pais-origen_ Cambodia', 'pais-origen_ Canada', 'pais-origen_ China', 'pais-origen_ Columbia', 'pais-origen_ Cuba', 'pais-origen_ Dominican-Republic', 'pais-origen_ Ecuador', 'pais-origen_ El-Salvador', 'pais-origen_ England', 'pais-origen_ France', 'pais-origen_ Germany', 'pais-origen_ Greece', 'pais-origen_ Guatemala', 'pais-origen_ Haiti', 'pais-origen_ Holand-Netherlands', 'pais-origen_ Honduras', 'pais-origen_ Hong', 'pais-origen_ Hungary', 'pais-origen_ India', 'pais-origen_ Iran', 'pais-origen_ Ireland', 'pais-origen_ Italy', 'pais-origen_ Jamaica', 'pais-origen_ Japan', 'pais-origen_ Laos', 'pais-origen_ Mexico', 'pais-origen_ Nicaragua', 'pais-origen_ Outlying-US(Guam-USVI-etc)', 'pais-origen_ Peru', 'pais-origen_ Philippines', 'pais-origen_ Poland', 'pais-origen_ Portugal', 'pais-origen_ Puerto-Rico', 'pais-origen_ Scotland', 'pais-origen_ South', 'pais-origen_ Taiwan', 'pais-origen_ Thailand', 'pais-origen_ Trinadad&Tobago', 'pais-origen_ United-States', 'pais-origen_ Vietnam', 'pais-origen_ Yugoslavia', 'salario_ <=50K', 'salario_ >50K', 'edad', 'ganancias_inversiones', 'perdidas_inversiones', 'horas-trabajo_semana']\n"
     ]
    }
   ],
   "source": [
    "encoder = preprocessor.named_transformers_['cat'].named_steps['encoder']\n",
    "encoded_cols = encoder.get_feature_names_out(categorical_features)\n",
    "all_columns = list(encoded_cols) + numeric_features\n",
    "\n",
    "print(all_columns)  # Número total de columnas después de la transformación"
   ]
  },
  {
   "cell_type": "code",
   "execution_count": 200,
   "id": "c7060fb9",
   "metadata": {},
   "outputs": [
    {
     "data": {
      "text/html": [
       "<div>\n",
       "<style scoped>\n",
       "    .dataframe tbody tr th:only-of-type {\n",
       "        vertical-align: middle;\n",
       "    }\n",
       "\n",
       "    .dataframe tbody tr th {\n",
       "        vertical-align: top;\n",
       "    }\n",
       "\n",
       "    .dataframe thead th {\n",
       "        text-align: right;\n",
       "    }\n",
       "</style>\n",
       "<table border=\"1\" class=\"dataframe\">\n",
       "  <thead>\n",
       "    <tr style=\"text-align: right;\">\n",
       "      <th></th>\n",
       "      <th>trabajo_ Federal-gov</th>\n",
       "      <th>trabajo_ Local-gov</th>\n",
       "      <th>trabajo_ Never-worked</th>\n",
       "      <th>trabajo_ Private</th>\n",
       "      <th>trabajo_ Self-emp-inc</th>\n",
       "      <th>trabajo_ Self-emp-not-inc</th>\n",
       "      <th>trabajo_ State-gov</th>\n",
       "      <th>trabajo_ Without-pay</th>\n",
       "      <th>estudios_ 10th</th>\n",
       "      <th>estudios_ 11th</th>\n",
       "      <th>...</th>\n",
       "      <th>pais-origen_ Trinadad&amp;Tobago</th>\n",
       "      <th>pais-origen_ United-States</th>\n",
       "      <th>pais-origen_ Vietnam</th>\n",
       "      <th>pais-origen_ Yugoslavia</th>\n",
       "      <th>salario_ &lt;=50K</th>\n",
       "      <th>salario_ &gt;50K</th>\n",
       "      <th>edad</th>\n",
       "      <th>ganancias_inversiones</th>\n",
       "      <th>perdidas_inversiones</th>\n",
       "      <th>horas-trabajo_semana</th>\n",
       "    </tr>\n",
       "  </thead>\n",
       "  <tbody>\n",
       "    <tr>\n",
       "      <th>0</th>\n",
       "      <td>0.0</td>\n",
       "      <td>0.0</td>\n",
       "      <td>0.0</td>\n",
       "      <td>0.0</td>\n",
       "      <td>0.0</td>\n",
       "      <td>0.0</td>\n",
       "      <td>1.0</td>\n",
       "      <td>0.0</td>\n",
       "      <td>0.0</td>\n",
       "      <td>0.0</td>\n",
       "      <td>...</td>\n",
       "      <td>0.0</td>\n",
       "      <td>1.0</td>\n",
       "      <td>0.0</td>\n",
       "      <td>0.0</td>\n",
       "      <td>1.0</td>\n",
       "      <td>0.0</td>\n",
       "      <td>39.0</td>\n",
       "      <td>2174.0</td>\n",
       "      <td>0.0</td>\n",
       "      <td>40.0</td>\n",
       "    </tr>\n",
       "    <tr>\n",
       "      <th>1</th>\n",
       "      <td>0.0</td>\n",
       "      <td>0.0</td>\n",
       "      <td>0.0</td>\n",
       "      <td>0.0</td>\n",
       "      <td>0.0</td>\n",
       "      <td>1.0</td>\n",
       "      <td>0.0</td>\n",
       "      <td>0.0</td>\n",
       "      <td>0.0</td>\n",
       "      <td>0.0</td>\n",
       "      <td>...</td>\n",
       "      <td>0.0</td>\n",
       "      <td>1.0</td>\n",
       "      <td>0.0</td>\n",
       "      <td>0.0</td>\n",
       "      <td>1.0</td>\n",
       "      <td>0.0</td>\n",
       "      <td>50.0</td>\n",
       "      <td>0.0</td>\n",
       "      <td>0.0</td>\n",
       "      <td>13.0</td>\n",
       "    </tr>\n",
       "    <tr>\n",
       "      <th>2</th>\n",
       "      <td>0.0</td>\n",
       "      <td>0.0</td>\n",
       "      <td>0.0</td>\n",
       "      <td>1.0</td>\n",
       "      <td>0.0</td>\n",
       "      <td>0.0</td>\n",
       "      <td>0.0</td>\n",
       "      <td>0.0</td>\n",
       "      <td>0.0</td>\n",
       "      <td>0.0</td>\n",
       "      <td>...</td>\n",
       "      <td>0.0</td>\n",
       "      <td>1.0</td>\n",
       "      <td>0.0</td>\n",
       "      <td>0.0</td>\n",
       "      <td>1.0</td>\n",
       "      <td>0.0</td>\n",
       "      <td>38.0</td>\n",
       "      <td>0.0</td>\n",
       "      <td>0.0</td>\n",
       "      <td>40.0</td>\n",
       "    </tr>\n",
       "    <tr>\n",
       "      <th>3</th>\n",
       "      <td>0.0</td>\n",
       "      <td>0.0</td>\n",
       "      <td>0.0</td>\n",
       "      <td>1.0</td>\n",
       "      <td>0.0</td>\n",
       "      <td>0.0</td>\n",
       "      <td>0.0</td>\n",
       "      <td>0.0</td>\n",
       "      <td>0.0</td>\n",
       "      <td>1.0</td>\n",
       "      <td>...</td>\n",
       "      <td>0.0</td>\n",
       "      <td>1.0</td>\n",
       "      <td>0.0</td>\n",
       "      <td>0.0</td>\n",
       "      <td>1.0</td>\n",
       "      <td>0.0</td>\n",
       "      <td>53.0</td>\n",
       "      <td>0.0</td>\n",
       "      <td>0.0</td>\n",
       "      <td>40.0</td>\n",
       "    </tr>\n",
       "    <tr>\n",
       "      <th>4</th>\n",
       "      <td>0.0</td>\n",
       "      <td>0.0</td>\n",
       "      <td>0.0</td>\n",
       "      <td>1.0</td>\n",
       "      <td>0.0</td>\n",
       "      <td>0.0</td>\n",
       "      <td>0.0</td>\n",
       "      <td>0.0</td>\n",
       "      <td>0.0</td>\n",
       "      <td>0.0</td>\n",
       "      <td>...</td>\n",
       "      <td>0.0</td>\n",
       "      <td>0.0</td>\n",
       "      <td>0.0</td>\n",
       "      <td>0.0</td>\n",
       "      <td>1.0</td>\n",
       "      <td>0.0</td>\n",
       "      <td>28.0</td>\n",
       "      <td>0.0</td>\n",
       "      <td>0.0</td>\n",
       "      <td>40.0</td>\n",
       "    </tr>\n",
       "  </tbody>\n",
       "</table>\n",
       "<p>5 rows × 105 columns</p>\n",
       "</div>"
      ],
      "text/plain": [
       "   trabajo_ Federal-gov  trabajo_ Local-gov  trabajo_ Never-worked  \\\n",
       "0                   0.0                 0.0                    0.0   \n",
       "1                   0.0                 0.0                    0.0   \n",
       "2                   0.0                 0.0                    0.0   \n",
       "3                   0.0                 0.0                    0.0   \n",
       "4                   0.0                 0.0                    0.0   \n",
       "\n",
       "   trabajo_ Private  trabajo_ Self-emp-inc  trabajo_ Self-emp-not-inc  \\\n",
       "0               0.0                    0.0                        0.0   \n",
       "1               0.0                    0.0                        1.0   \n",
       "2               1.0                    0.0                        0.0   \n",
       "3               1.0                    0.0                        0.0   \n",
       "4               1.0                    0.0                        0.0   \n",
       "\n",
       "   trabajo_ State-gov  trabajo_ Without-pay  estudios_ 10th  estudios_ 11th  \\\n",
       "0                 1.0                   0.0             0.0             0.0   \n",
       "1                 0.0                   0.0             0.0             0.0   \n",
       "2                 0.0                   0.0             0.0             0.0   \n",
       "3                 0.0                   0.0             0.0             1.0   \n",
       "4                 0.0                   0.0             0.0             0.0   \n",
       "\n",
       "   ...  pais-origen_ Trinadad&Tobago  pais-origen_ United-States  \\\n",
       "0  ...                           0.0                         1.0   \n",
       "1  ...                           0.0                         1.0   \n",
       "2  ...                           0.0                         1.0   \n",
       "3  ...                           0.0                         1.0   \n",
       "4  ...                           0.0                         0.0   \n",
       "\n",
       "   pais-origen_ Vietnam  pais-origen_ Yugoslavia  salario_ <=50K  \\\n",
       "0                   0.0                      0.0             1.0   \n",
       "1                   0.0                      0.0             1.0   \n",
       "2                   0.0                      0.0             1.0   \n",
       "3                   0.0                      0.0             1.0   \n",
       "4                   0.0                      0.0             1.0   \n",
       "\n",
       "   salario_ >50K  edad  ganancias_inversiones  perdidas_inversiones  \\\n",
       "0            0.0  39.0                 2174.0                   0.0   \n",
       "1            0.0  50.0                    0.0                   0.0   \n",
       "2            0.0  38.0                    0.0                   0.0   \n",
       "3            0.0  53.0                    0.0                   0.0   \n",
       "4            0.0  28.0                    0.0                   0.0   \n",
       "\n",
       "   horas-trabajo_semana  \n",
       "0                  40.0  \n",
       "1                  13.0  \n",
       "2                  40.0  \n",
       "3                  40.0  \n",
       "4                  40.0  \n",
       "\n",
       "[5 rows x 105 columns]"
      ]
     },
     "execution_count": 200,
     "metadata": {},
     "output_type": "execute_result"
    }
   ],
   "source": [
    "df_transformed = pd.DataFrame(transformed, columns=all_columns)\n",
    "df_transformed.head()"
   ]
  },
  {
   "cell_type": "markdown",
   "id": "b76a4ee3",
   "metadata": {},
   "source": [
    "Hay que eliminar la columna salario_<=50k ya que es el inverso de salrio_>50K y ordenamos el target a la última columna"
   ]
  },
  {
   "cell_type": "code",
   "execution_count": 201,
   "id": "fb04caf1",
   "metadata": {},
   "outputs": [
    {
     "name": "stderr",
     "output_type": "stream",
     "text": [
      "C:\\Users\\jaime\\AppData\\Local\\Temp\\ipykernel_13180\\1490506385.py:3: PerformanceWarning: DataFrame is highly fragmented.  This is usually the result of calling `frame.insert` many times, which has poor performance.  Consider joining all columns at once using pd.concat(axis=1) instead. To get a de-fragmented frame, use `newframe = frame.copy()`\n",
      "  df_transformed['salario_ >50K'] = col\n"
     ]
    },
    {
     "data": {
      "text/html": [
       "<div>\n",
       "<style scoped>\n",
       "    .dataframe tbody tr th:only-of-type {\n",
       "        vertical-align: middle;\n",
       "    }\n",
       "\n",
       "    .dataframe tbody tr th {\n",
       "        vertical-align: top;\n",
       "    }\n",
       "\n",
       "    .dataframe thead th {\n",
       "        text-align: right;\n",
       "    }\n",
       "</style>\n",
       "<table border=\"1\" class=\"dataframe\">\n",
       "  <thead>\n",
       "    <tr style=\"text-align: right;\">\n",
       "      <th></th>\n",
       "      <th>trabajo_ Federal-gov</th>\n",
       "      <th>trabajo_ Local-gov</th>\n",
       "      <th>trabajo_ Never-worked</th>\n",
       "      <th>trabajo_ Private</th>\n",
       "      <th>trabajo_ Self-emp-inc</th>\n",
       "      <th>trabajo_ Self-emp-not-inc</th>\n",
       "      <th>trabajo_ State-gov</th>\n",
       "      <th>trabajo_ Without-pay</th>\n",
       "      <th>estudios_ 10th</th>\n",
       "      <th>estudios_ 11th</th>\n",
       "      <th>...</th>\n",
       "      <th>pais-origen_ Thailand</th>\n",
       "      <th>pais-origen_ Trinadad&amp;Tobago</th>\n",
       "      <th>pais-origen_ United-States</th>\n",
       "      <th>pais-origen_ Vietnam</th>\n",
       "      <th>pais-origen_ Yugoslavia</th>\n",
       "      <th>edad</th>\n",
       "      <th>ganancias_inversiones</th>\n",
       "      <th>perdidas_inversiones</th>\n",
       "      <th>horas-trabajo_semana</th>\n",
       "      <th>salario_ &gt;50K</th>\n",
       "    </tr>\n",
       "  </thead>\n",
       "  <tbody>\n",
       "    <tr>\n",
       "      <th>0</th>\n",
       "      <td>0.0</td>\n",
       "      <td>0.0</td>\n",
       "      <td>0.0</td>\n",
       "      <td>0.0</td>\n",
       "      <td>0.0</td>\n",
       "      <td>0.0</td>\n",
       "      <td>1.0</td>\n",
       "      <td>0.0</td>\n",
       "      <td>0.0</td>\n",
       "      <td>0.0</td>\n",
       "      <td>...</td>\n",
       "      <td>0.0</td>\n",
       "      <td>0.0</td>\n",
       "      <td>1.0</td>\n",
       "      <td>0.0</td>\n",
       "      <td>0.0</td>\n",
       "      <td>39.0</td>\n",
       "      <td>2174.0</td>\n",
       "      <td>0.0</td>\n",
       "      <td>40.0</td>\n",
       "      <td>0.0</td>\n",
       "    </tr>\n",
       "    <tr>\n",
       "      <th>1</th>\n",
       "      <td>0.0</td>\n",
       "      <td>0.0</td>\n",
       "      <td>0.0</td>\n",
       "      <td>0.0</td>\n",
       "      <td>0.0</td>\n",
       "      <td>1.0</td>\n",
       "      <td>0.0</td>\n",
       "      <td>0.0</td>\n",
       "      <td>0.0</td>\n",
       "      <td>0.0</td>\n",
       "      <td>...</td>\n",
       "      <td>0.0</td>\n",
       "      <td>0.0</td>\n",
       "      <td>1.0</td>\n",
       "      <td>0.0</td>\n",
       "      <td>0.0</td>\n",
       "      <td>50.0</td>\n",
       "      <td>0.0</td>\n",
       "      <td>0.0</td>\n",
       "      <td>13.0</td>\n",
       "      <td>0.0</td>\n",
       "    </tr>\n",
       "    <tr>\n",
       "      <th>2</th>\n",
       "      <td>0.0</td>\n",
       "      <td>0.0</td>\n",
       "      <td>0.0</td>\n",
       "      <td>1.0</td>\n",
       "      <td>0.0</td>\n",
       "      <td>0.0</td>\n",
       "      <td>0.0</td>\n",
       "      <td>0.0</td>\n",
       "      <td>0.0</td>\n",
       "      <td>0.0</td>\n",
       "      <td>...</td>\n",
       "      <td>0.0</td>\n",
       "      <td>0.0</td>\n",
       "      <td>1.0</td>\n",
       "      <td>0.0</td>\n",
       "      <td>0.0</td>\n",
       "      <td>38.0</td>\n",
       "      <td>0.0</td>\n",
       "      <td>0.0</td>\n",
       "      <td>40.0</td>\n",
       "      <td>0.0</td>\n",
       "    </tr>\n",
       "    <tr>\n",
       "      <th>3</th>\n",
       "      <td>0.0</td>\n",
       "      <td>0.0</td>\n",
       "      <td>0.0</td>\n",
       "      <td>1.0</td>\n",
       "      <td>0.0</td>\n",
       "      <td>0.0</td>\n",
       "      <td>0.0</td>\n",
       "      <td>0.0</td>\n",
       "      <td>0.0</td>\n",
       "      <td>1.0</td>\n",
       "      <td>...</td>\n",
       "      <td>0.0</td>\n",
       "      <td>0.0</td>\n",
       "      <td>1.0</td>\n",
       "      <td>0.0</td>\n",
       "      <td>0.0</td>\n",
       "      <td>53.0</td>\n",
       "      <td>0.0</td>\n",
       "      <td>0.0</td>\n",
       "      <td>40.0</td>\n",
       "      <td>0.0</td>\n",
       "    </tr>\n",
       "    <tr>\n",
       "      <th>4</th>\n",
       "      <td>0.0</td>\n",
       "      <td>0.0</td>\n",
       "      <td>0.0</td>\n",
       "      <td>1.0</td>\n",
       "      <td>0.0</td>\n",
       "      <td>0.0</td>\n",
       "      <td>0.0</td>\n",
       "      <td>0.0</td>\n",
       "      <td>0.0</td>\n",
       "      <td>0.0</td>\n",
       "      <td>...</td>\n",
       "      <td>0.0</td>\n",
       "      <td>0.0</td>\n",
       "      <td>0.0</td>\n",
       "      <td>0.0</td>\n",
       "      <td>0.0</td>\n",
       "      <td>28.0</td>\n",
       "      <td>0.0</td>\n",
       "      <td>0.0</td>\n",
       "      <td>40.0</td>\n",
       "      <td>0.0</td>\n",
       "    </tr>\n",
       "  </tbody>\n",
       "</table>\n",
       "<p>5 rows × 104 columns</p>\n",
       "</div>"
      ],
      "text/plain": [
       "   trabajo_ Federal-gov  trabajo_ Local-gov  trabajo_ Never-worked  \\\n",
       "0                   0.0                 0.0                    0.0   \n",
       "1                   0.0                 0.0                    0.0   \n",
       "2                   0.0                 0.0                    0.0   \n",
       "3                   0.0                 0.0                    0.0   \n",
       "4                   0.0                 0.0                    0.0   \n",
       "\n",
       "   trabajo_ Private  trabajo_ Self-emp-inc  trabajo_ Self-emp-not-inc  \\\n",
       "0               0.0                    0.0                        0.0   \n",
       "1               0.0                    0.0                        1.0   \n",
       "2               1.0                    0.0                        0.0   \n",
       "3               1.0                    0.0                        0.0   \n",
       "4               1.0                    0.0                        0.0   \n",
       "\n",
       "   trabajo_ State-gov  trabajo_ Without-pay  estudios_ 10th  estudios_ 11th  \\\n",
       "0                 1.0                   0.0             0.0             0.0   \n",
       "1                 0.0                   0.0             0.0             0.0   \n",
       "2                 0.0                   0.0             0.0             0.0   \n",
       "3                 0.0                   0.0             0.0             1.0   \n",
       "4                 0.0                   0.0             0.0             0.0   \n",
       "\n",
       "   ...  pais-origen_ Thailand  pais-origen_ Trinadad&Tobago  \\\n",
       "0  ...                    0.0                           0.0   \n",
       "1  ...                    0.0                           0.0   \n",
       "2  ...                    0.0                           0.0   \n",
       "3  ...                    0.0                           0.0   \n",
       "4  ...                    0.0                           0.0   \n",
       "\n",
       "   pais-origen_ United-States  pais-origen_ Vietnam  pais-origen_ Yugoslavia  \\\n",
       "0                         1.0                   0.0                      0.0   \n",
       "1                         1.0                   0.0                      0.0   \n",
       "2                         1.0                   0.0                      0.0   \n",
       "3                         1.0                   0.0                      0.0   \n",
       "4                         0.0                   0.0                      0.0   \n",
       "\n",
       "   edad  ganancias_inversiones  perdidas_inversiones  horas-trabajo_semana  \\\n",
       "0  39.0                 2174.0                   0.0                  40.0   \n",
       "1  50.0                    0.0                   0.0                  13.0   \n",
       "2  38.0                    0.0                   0.0                  40.0   \n",
       "3  53.0                    0.0                   0.0                  40.0   \n",
       "4  28.0                    0.0                   0.0                  40.0   \n",
       "\n",
       "   salario_ >50K  \n",
       "0            0.0  \n",
       "1            0.0  \n",
       "2            0.0  \n",
       "3            0.0  \n",
       "4            0.0  \n",
       "\n",
       "[5 rows x 104 columns]"
      ]
     },
     "execution_count": 201,
     "metadata": {},
     "output_type": "execute_result"
    }
   ],
   "source": [
    "df_transformed=df_transformed.drop('salario_ <=50K', axis=1)\n",
    "col = df_transformed.pop('salario_ >50K')  \n",
    "df_transformed['salario_ >50K'] = col\n",
    "df_transformed.head()"
   ]
  },
  {
   "cell_type": "code",
   "execution_count": 202,
   "id": "9a735238",
   "metadata": {},
   "outputs": [
    {
     "name": "stdout",
     "output_type": "stream",
     "text": [
      "Número de NANs: 0\n"
     ]
    }
   ],
   "source": [
    "nan_por_columna=(df_transformed.isna().sum().sum())\n",
    "print(\"Número de NANs:\",nan_por_columna)"
   ]
  },
  {
   "cell_type": "code",
   "execution_count": null,
   "id": "d87ed254",
   "metadata": {},
   "outputs": [],
   "source": []
  },
  {
   "cell_type": "markdown",
   "id": "1ede4b6f",
   "metadata": {},
   "source": [
    "# Estandarizado"
   ]
  }
 ],
 "metadata": {
  "kernelspec": {
   "display_name": "Python 3",
   "language": "python",
   "name": "python3"
  },
  "language_info": {
   "codemirror_mode": {
    "name": "ipython",
    "version": 3
   },
   "file_extension": ".py",
   "mimetype": "text/x-python",
   "name": "python",
   "nbconvert_exporter": "python",
   "pygments_lexer": "ipython3",
   "version": "3.13.7"
  }
 },
 "nbformat": 4,
 "nbformat_minor": 5
}
